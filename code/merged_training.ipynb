{
 "cells": [
  {
   "cell_type": "code",
   "execution_count": 2,
   "id": "2174ff9b",
   "metadata": {},
   "outputs": [],
   "source": [
    "import pandas as pd"
   ]
  },
  {
   "cell_type": "code",
   "execution_count": 3,
   "id": "846cb10e",
   "metadata": {},
   "outputs": [
    {
     "data": {
      "text/html": [
       "<div>\n",
       "<style scoped>\n",
       "    .dataframe tbody tr th:only-of-type {\n",
       "        vertical-align: middle;\n",
       "    }\n",
       "\n",
       "    .dataframe tbody tr th {\n",
       "        vertical-align: top;\n",
       "    }\n",
       "\n",
       "    .dataframe thead th {\n",
       "        text-align: right;\n",
       "    }\n",
       "</style>\n",
       "<table border=\"1\" class=\"dataframe\">\n",
       "  <thead>\n",
       "    <tr style=\"text-align: right;\">\n",
       "      <th></th>\n",
       "      <th>Index</th>\n",
       "      <th>joke</th>\n",
       "      <th>label</th>\n",
       "      <th>target</th>\n",
       "      <th>rhetoric</th>\n",
       "    </tr>\n",
       "  </thead>\n",
       "  <tbody>\n",
       "    <tr>\n",
       "      <th>0</th>\n",
       "      <td>0</td>\n",
       "      <td>What do gender studies graduates commonly say?...</td>\n",
       "      <td>stereotype</td>\n",
       "      <td>education</td>\n",
       "      <td>sarcasm</td>\n",
       "    </tr>\n",
       "    <tr>\n",
       "      <th>1</th>\n",
       "      <td>1</td>\n",
       "      <td>Joel osteen tells harvey survivors not to have...</td>\n",
       "      <td>targeted</td>\n",
       "      <td>none</td>\n",
       "      <td>cultural reference</td>\n",
       "    </tr>\n",
       "  </tbody>\n",
       "</table>\n",
       "</div>"
      ],
      "text/plain": [
       "   Index                                               joke       label  \\\n",
       "0      0  What do gender studies graduates commonly say?...  stereotype   \n",
       "1      1  Joel osteen tells harvey survivors not to have...    targeted   \n",
       "\n",
       "      target            rhetoric  \n",
       "0  education             sarcasm  \n",
       "1       none  cultural reference  "
      ]
     },
     "execution_count": 3,
     "metadata": {},
     "output_type": "execute_result"
    }
   ],
   "source": [
    "gold = pd.read_csv(\"gold_labels_deduplicated_copy.csv\")\n",
    "gold = gold.rename(columns={\n",
    "    'gold_label': 'label',\n",
    "    'gold_target': 'target',\n",
    "    'gold_rhetoric': 'rhetoric'\n",
    "})\n",
    "gold.isna().any()\n",
    "gold.head(2)"
   ]
  },
  {
   "cell_type": "code",
   "execution_count": 4,
   "id": "2c125ebb",
   "metadata": {},
   "outputs": [
    {
     "data": {
      "text/html": [
       "<div>\n",
       "<style scoped>\n",
       "    .dataframe tbody tr th:only-of-type {\n",
       "        vertical-align: middle;\n",
       "    }\n",
       "\n",
       "    .dataframe tbody tr th {\n",
       "        vertical-align: top;\n",
       "    }\n",
       "\n",
       "    .dataframe thead th {\n",
       "        text-align: right;\n",
       "    }\n",
       "</style>\n",
       "<table border=\"1\" class=\"dataframe\">\n",
       "  <thead>\n",
       "    <tr style=\"text-align: right;\">\n",
       "      <th></th>\n",
       "      <th>joke</th>\n",
       "      <th>label</th>\n",
       "      <th>target</th>\n",
       "      <th>rhetoric</th>\n",
       "    </tr>\n",
       "  </thead>\n",
       "  <tbody>\n",
       "    <tr>\n",
       "      <th>599</th>\n",
       "      <td>There are only 2 kinds of Priest: There are th...</td>\n",
       "      <td>Offensive/Provocative</td>\n",
       "      <td>Religious beliefs</td>\n",
       "      <td>Vulgarity</td>\n",
       "    </tr>\n",
       "    <tr>\n",
       "      <th>600</th>\n",
       "      <td>I heard they were gonna make a movie about Mic...</td>\n",
       "      <td>Targeted</td>\n",
       "      <td>Ethnicity/national origin</td>\n",
       "      <td>Wordplay</td>\n",
       "    </tr>\n",
       "  </tbody>\n",
       "</table>\n",
       "</div>"
      ],
      "text/plain": [
       "                                                  joke                  label  \\\n",
       "599  There are only 2 kinds of Priest: There are th...  Offensive/Provocative   \n",
       "600  I heard they were gonna make a movie about Mic...               Targeted   \n",
       "\n",
       "                        target   rhetoric  \n",
       "599          Religious beliefs  Vulgarity  \n",
       "600  Ethnicity/national origin   Wordplay  "
      ]
     },
     "execution_count": 4,
     "metadata": {},
     "output_type": "execute_result"
    }
   ],
   "source": [
    "acl = pd.read_csv(\"ACL_toAnnotate_IAA.csv\")\n",
    "# drop if all three columns are NA (entirely unlabeled data)\n",
    "acl = acl.dropna(subset=['stereotype_SSB', 'target_SSB', 'rhetoric_SSB'], how='all').loc[:, ~acl.columns.str.startswith(\"Unnamed\")]\n",
    "acl = acl.rename(columns={\n",
    "    'stereotype_SSB': 'label',\n",
    "    'target_SSB': 'target',\n",
    "    'rhetoric_SSB': 'rhetoric'\n",
    "})\n",
    "acl.head(2)"
   ]
  },
  {
   "cell_type": "code",
   "execution_count": 5,
   "id": "a84ac32d",
   "metadata": {},
   "outputs": [
    {
     "data": {
      "text/html": [
       "<div>\n",
       "<style scoped>\n",
       "    .dataframe tbody tr th:only-of-type {\n",
       "        vertical-align: middle;\n",
       "    }\n",
       "\n",
       "    .dataframe tbody tr th {\n",
       "        vertical-align: top;\n",
       "    }\n",
       "\n",
       "    .dataframe thead th {\n",
       "        text-align: right;\n",
       "    }\n",
       "</style>\n",
       "<table border=\"1\" class=\"dataframe\">\n",
       "  <thead>\n",
       "    <tr style=\"text-align: right;\">\n",
       "      <th></th>\n",
       "      <th>joke</th>\n",
       "      <th>label</th>\n",
       "      <th>target</th>\n",
       "      <th>rhetoric</th>\n",
       "    </tr>\n",
       "  </thead>\n",
       "  <tbody>\n",
       "    <tr>\n",
       "      <th>0</th>\n",
       "      <td>What do gender studies graduates commonly say?...</td>\n",
       "      <td>stereotype</td>\n",
       "      <td>education</td>\n",
       "      <td>sarcasm</td>\n",
       "    </tr>\n",
       "    <tr>\n",
       "      <th>1</th>\n",
       "      <td>Joel osteen tells harvey survivors not to have...</td>\n",
       "      <td>targeted</td>\n",
       "      <td>none</td>\n",
       "      <td>cultural reference</td>\n",
       "    </tr>\n",
       "    <tr>\n",
       "      <th>2</th>\n",
       "      <td>Yo mama so ugly for Halloween she trick or tre...</td>\n",
       "      <td>normal</td>\n",
       "      <td>none</td>\n",
       "      <td>hyperbole</td>\n",
       "    </tr>\n",
       "  </tbody>\n",
       "</table>\n",
       "</div>"
      ],
      "text/plain": [
       "                                                joke       label     target  \\\n",
       "0  What do gender studies graduates commonly say?...  stereotype  education   \n",
       "1  Joel osteen tells harvey survivors not to have...    targeted       none   \n",
       "2  Yo mama so ugly for Halloween she trick or tre...      normal       none   \n",
       "\n",
       "             rhetoric  \n",
       "0             sarcasm  \n",
       "1  cultural reference  \n",
       "2           hyperbole  "
      ]
     },
     "execution_count": 5,
     "metadata": {},
     "output_type": "execute_result"
    }
   ],
   "source": [
    "merged = pd.concat([gold, acl],ignore_index=True).drop('Index',axis=1)\n",
    "merged.head(3)"
   ]
  },
  {
   "cell_type": "code",
   "execution_count": null,
   "id": "55be4bcd",
   "metadata": {},
   "outputs": [],
   "source": [
    "import random\n",
    "random.seed(888)\n",
    "# shuffle to create training/validation dataset\n",
    "df_shuffled = merged.sample(frac=1).reset_index(drop=True)\n",
    "df_shuffled.head(10)\n",
    "\n",
    "#train validation split\n",
    "split_idx = int(len(df_shuffled) * 0.8)\n",
    "train_df = df_shuffled.iloc[:split_idx]\n",
    "val_df = df_shuffled.iloc[split_idx:]\n",
    "\n",
    "## don't do it again. I forgot to set the seed at the first place\n",
    "\n",
    "# train_df.to_csv('train.csv', index=False)\n",
    "# val_df.to_csv('validation.csv', index=False)"
   ]
  },
  {
   "cell_type": "code",
   "execution_count": 10,
   "id": "c5b3029c",
   "metadata": {},
   "outputs": [
    {
     "data": {
      "text/plain": [
       "605"
      ]
     },
     "execution_count": 10,
     "metadata": {},
     "output_type": "execute_result"
    }
   ],
   "source": [
    "len(val_df)"
   ]
  }
 ],
 "metadata": {
  "kernelspec": {
   "display_name": "env1",
   "language": "python",
   "name": "python3"
  },
  "language_info": {
   "codemirror_mode": {
    "name": "ipython",
    "version": 3
   },
   "file_extension": ".py",
   "mimetype": "text/x-python",
   "name": "python",
   "nbconvert_exporter": "python",
   "pygments_lexer": "ipython3",
   "version": "3.11.11"
  }
 },
 "nbformat": 4,
 "nbformat_minor": 5
}
